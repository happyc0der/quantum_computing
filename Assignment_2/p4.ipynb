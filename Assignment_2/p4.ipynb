{
 "cells": [
  {
   "cell_type": "code",
   "execution_count": 1,
   "metadata": {
    "collapsed": true
   },
   "outputs": [
    {
     "name": "stderr",
     "output_type": "stream",
     "text": [
      "C:\\Users\\Keshav\\anaconda3\\envs\\MachineLearning\\lib\\site-packages\\ipykernel_launcher.py:17: DeprecationWarning: The package qiskit.providers.ibmq is being deprecated. Please see https://ibm.biz/provider_migration_guide to get instructions on how to migrate to qiskit-ibm-provider (https://github.com/Qiskit/qiskit-ibm-provider) and qiskit-ibm-runtime (https://github.com/Qiskit/qiskit-ibm-runtime).\n",
      "  app.launch_new_instance()\n",
      "C:\\Users\\Keshav\\anaconda3\\envs\\MachineLearning\\lib\\site-packages\\ipykernel_launcher.py:17: DeprecationWarning: The qiskit.IBMQ entrypoint and the qiskit-ibmq-provider package (accessible from 'qiskit.providers.ibmq`) are deprecated and will be removed in a future release. Instead you should use the qiskit-ibm-provider package which is accessible from 'qiskit_ibm_provider'. You can install it with 'pip install qiskit_ibm_provider'. Just replace 'qiskit.IBMQ' with 'qiskit_ibm_provider.IBMProvider'\n",
      "  app.launch_new_instance()\n",
      "configrc.store_credentials:WARNING:2023-04-02 18:00:02,933: Credentials already present. Set overwrite=True to overwrite.\n"
     ]
    },
    {
     "data": {
      "text/plain": "<AccountProvider for IBMQ(hub='ibm-q', group='open', project='main')>"
     },
     "execution_count": 1,
     "metadata": {},
     "output_type": "execute_result"
    }
   ],
   "source": [
    "# Import qiskit\n",
    "from qiskit import QuantumCircuit, ClassicalRegister, QuantumRegister\n",
    "import os\n",
    "import tempfile\n",
    "from qiskit import *\n",
    "from qiskit.tools.visualization import plot_histogram\n",
    "from qiskit.algorithms import Grover\n",
    "from qiskit.primitives import Sampler\n",
    "from qiskit.circuit.library import PhaseOracle\n",
    "from qiskit.exceptions import MissingOptionalLibraryError\n",
    "from qiskit.algorithms.amplitude_amplifiers import AmplificationProblem\n",
    "import numpy as np\n",
    "from qiskit.result import utils\n",
    "from qiskit.utils import QuantumInstance\n",
    "pi = np.pi # pi\n",
    "TOKEN=\"0f466da63a29ab5932d1e030884099b76de6be3cc5639ee1a4a5f44922ac97b86a9a2a5b2f523d1c85023dffa09296293717e2f6a3f8b852f3cf337dab5eed07\"\n",
    "IBMQ.save_account(TOKEN)\n",
    "IBMQ.load_account()"
   ]
  },
  {
   "cell_type": "code",
   "execution_count": 2,
   "metadata": {
    "collapsed": false
   },
   "outputs": [
    {
     "name": "stdout",
     "output_type": "stream",
     "text": [
      "N =  01010110\n",
      "01010110\n"
     ]
    }
   ],
   "source": [
    "D = 17\n",
    "M = 5\n",
    "N = ((D*M) % 254) + 1\n",
    "# Print the N in binary\n",
    "print(\"N = \", bin(N)[2:].zfill(8))\n",
    "N = (bin(N)[2:].zfill(8), 2)[0]\n",
    "print(N)"
   ]
  },
  {
   "cell_type": "code",
   "execution_count": 28,
   "metadata": {
    "collapsed": false
   },
   "outputs": [
    {
     "name": "stdout",
     "output_type": "stream",
     "text": [
      "i =  000 f(i) =  0\n",
      "i =  001 f(i) =  1\n",
      "i =  010 f(i) =  1\n",
      "i =  011 f(i) =  0\n",
      "i =  100 f(i) =  1\n",
      "i =  101 f(i) =  0\n",
      "i =  110 f(i) =  1\n",
      "i =  111 f(i) =  0\n",
      "['0', '1', '1', '0', '1', '0', '1', '0']\n",
      "01101010\n"
     ]
    }
   ],
   "source": [
    "function_values = []\n",
    "for i in range(0,8):\n",
    "    function_values.append(N[7-i])\n",
    "\n",
    "for i in range(0,8):\n",
    "    print(\"i = \", bin(i)[2:].zfill(3), \"f(i) = \", function_values[i])\n",
    "\n",
    "print(function_values)\n",
    "temp = \"\"\n",
    "for i in function_values:\n",
    "    temp+=i\n",
    "print(temp)\n",
    "function_values = temp"
   ]
  },
  {
   "cell_type": "code",
   "execution_count": 12,
   "metadata": {},
   "outputs": [
    {
     "name": "stdout",
     "output_type": "stream",
     "text": [
      "(~c & ~b & ~a) | (c & ~b & ~a)\n"
     ]
    }
   ],
   "source": [
    "# function to convert a bitstring into a boolean expression\n",
    "def get_expression(bitstring):\n",
    "    expression = \"\"\n",
    "    count = 0\n",
    "    for i in range(len(bitstring)):\n",
    "        j = bin(i)[2:].zfill(3)\n",
    "        if(bitstring[i] == '1'):\n",
    "            count += 1\n",
    "            if (count == 1):\n",
    "                expression += \"(\"\n",
    "            else:\n",
    "                expression += \" | (\"\n",
    "            if (j[2] == \"0\"):\n",
    "                expression += \"~c\"\n",
    "            else:\n",
    "                expression += \"c\"\n",
    "            expression += \" & \"\n",
    "            if (j[1] == \"0\"):\n",
    "                expression += \"~b\"\n",
    "            else:\n",
    "                expression += \"b\"\n",
    "            expression += \" & \"\n",
    "            if (j[0] == \"0\"):\n",
    "                expression += \"~a\"\n",
    "            else:\n",
    "                expression += \"a\"\n",
    "\n",
    "            expression += \")\"\n",
    "        else:\n",
    "            pass  # do nothing\n",
    "\n",
    "    return expression\n",
    "\n",
    "\n",
    "print(get_expression(\"11000000\"))\n"
   ]
  },
  {
   "cell_type": "code",
   "execution_count": 25,
   "metadata": {
    "collapsed": false
   },
   "outputs": [
    {
     "name": "stdout",
     "output_type": "stream",
     "text": [
      "7\n"
     ]
    }
   ],
   "source": [
    " # a = b1 ,b = b2, c = b3\n",
    "def apply_grover(bitsring_rep,iter):\n",
    "    expression = get_expression(bitsring_rep)\n",
    "    try:\n",
    "        oracle = PhaseOracle(expression)\n",
    "        problem = AmplificationProblem(oracle)\n",
    "        provider = IBMQ.get_provider(project=\"intro-quantum-co\")\n",
    "        backend = provider.get_backend(\"ibmq_qasm_simulator\")\n",
    "        quantum_instance = QuantumInstance(backend=backend,shots = 100)\n",
    "        grover = Grover(quantum_instance=quantum_instance,iterations=iter)\n",
    "        result = grover.amplify(problem)\n",
    "        # Return the top result in decimal\n",
    "        return int(result.top_measurement,2)\n",
    "    except MissingOptionalLibraryError as ex:\n",
    "        print(ex)\n",
    "print(apply_grover(\"10000000\",1))"
   ]
  },
  {
   "cell_type": "code",
   "execution_count": 23,
   "metadata": {},
   "outputs": [
    {
     "data": {
      "text/plain": "(0, 0, 1)"
     },
     "execution_count": 23,
     "metadata": {},
     "output_type": "execute_result"
    }
   ],
   "source": [
    "def boyer_search(fsr):\n",
    "    m = 1\n",
    "    l = 4/3\n",
    "    runs = 0\n",
    "    steps = 0\n",
    "    N = len(fsr)\n",
    "    while (True):\n",
    "        # j is uniformly random among the non-negative integers smaller than m\n",
    "        j = np.random.randint(0, m+1)\n",
    "        steps += 1\n",
    "        # apply j iterations of grover's\n",
    "        result = apply_grover(fsr, j)\n",
    "        runs += j\n",
    "        if (fsr[result]=='1'):\n",
    "            return result,runs,steps\n",
    "        else:\n",
    "            m = min(l*m,np.sqrt(N))\n",
    "        if steps > np.ceil(np.sqrt(N)):\n",
    "            return -1,runs,steps\n"
   ]
  },
  {
   "cell_type": "code",
   "execution_count": 34,
   "outputs": [
    {
     "name": "stdout",
     "output_type": "stream",
     "text": [
      "00100010\n",
      "00000010\n",
      "01101010\n",
      "00000000\n",
      "00000000\n",
      "00101000\n",
      "01100000\n",
      "00001000\n",
      "01101000\n",
      "00100000\n",
      "01000000\n",
      "01101010\n",
      "00100010\n",
      "01000010\n",
      "00000000\n",
      "00000000\n",
      "00101000\n",
      "00101000\n",
      "01100010\n",
      "00101010\n",
      "Number of runs 20\n",
      "Avg Precision across runs 0.31289682539682545\n",
      "Avg Recall across runs 0.5625\n",
      "Avg Number of calls across runs 3.65\n"
     ]
    }
   ],
   "source": [
    "def custom_algorithm(original):\n",
    "    working = original\n",
    "    actual_solutions = 0\n",
    "    solutions_found = 0\n",
    "    # count the number of \"1\" in original string\n",
    "    for i in range(len(original)):\n",
    "        if (original[i] == '1'):\n",
    "            actual_solutions += 1\n",
    "    total_outputs = 0\n",
    "    total_calls = 0\n",
    "    precision = 0\n",
    "    recall = 0\n",
    "    while (True):\n",
    "        try:\n",
    "            _ = boyer_search(working)\n",
    "        except:\n",
    "            precision = solutions_found / total_outputs\n",
    "            recall = solutions_found / actual_solutions\n",
    "            print(working)\n",
    "            return precision,recall,total_calls\n",
    "        total_calls += _[1]\n",
    "        total_outputs += _[2]\n",
    "        if (_[0] == -1):\n",
    "            precision = solutions_found / total_outputs\n",
    "            recall = solutions_found / actual_solutions\n",
    "            print(working)\n",
    "            return precision,recall,total_calls\n",
    "        else:\n",
    "            solutions_found +=1\n",
    "            idx = _[0]\n",
    "            working = working[:idx] + '0' + working[idx+1:]\n",
    "\n",
    "number_of_runs = 20\n",
    "cache = []\n",
    "for i in range(number_of_runs):\n",
    "    _ = custom_algorithm(function_values)\n",
    "    cache.append(_)\n",
    "print(\"Number of runs\",number_of_runs)\n",
    "print(\"Avg Precision across runs\",sum([_[0] for _ in cache])/number_of_runs)\n",
    "print(\"Avg Recall across runs\",sum([_[1] for _ in cache])/number_of_runs)\n",
    "print(\"Avg Number of calls across runs\",sum([_[2] for _ in cache])/number_of_runs)"
   ],
   "metadata": {
    "collapsed": false
   }
  },
  {
   "cell_type": "code",
   "execution_count": null,
   "outputs": [],
   "source": [],
   "metadata": {
    "collapsed": false
   }
  }
 ],
 "metadata": {
  "kernelspec": {
   "display_name": "MachineLearningX",
   "language": "python",
   "name": "python3"
  },
  "language_info": {
   "codemirror_mode": {
    "name": "ipython",
    "version": 3
   },
   "file_extension": ".py",
   "mimetype": "text/x-python",
   "name": "python",
   "nbconvert_exporter": "python",
   "pygments_lexer": "ipython3",
   "version": "3.9.13"
  }
 },
 "nbformat": 4,
 "nbformat_minor": 0
}
